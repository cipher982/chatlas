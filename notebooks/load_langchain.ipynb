{
 "cells": [
  {
   "cell_type": "code",
   "execution_count": 64,
   "metadata": {},
   "outputs": [
    {
     "data": {
      "text/plain": [
       "True"
      ]
     },
     "execution_count": 64,
     "metadata": {},
     "output_type": "execute_result"
    }
   ],
   "source": [
    "from langchain.document_loaders import JSONLoader\n",
    "from langchain.agents import create_pandas_dataframe_agent\n",
    "from langchain.chat_models import ChatOpenAI\n",
    "from langchain.agents.agent_types import AgentType\n",
    "from langchain.llms import OpenAI\n",
    "from dotenv import load_dotenv\n",
    "import pandas as pd\n",
    "from datetime import datetime\n",
    "import matplotlib.pyplot as plt\n",
    "\n",
    "from pathlib import Path\n",
    "from pprint import pprint\n",
    "\n",
    "import json\n",
    "\n",
    "load_dotenv()"
   ]
  },
  {
   "attachments": {},
   "cell_type": "markdown",
   "metadata": {},
   "source": [
    "## Load Records"
   ]
  },
  {
   "cell_type": "code",
   "execution_count": 2,
   "metadata": {},
   "outputs": [],
   "source": [
    "coords_path = \"/Users/davidrose/git/chatlas/data/location_history/Records.json\"\n",
    "\n",
    "with open(coords_path) as f:\n",
    "    data = json.load(f)"
   ]
  },
  {
   "cell_type": "code",
   "execution_count": 22,
   "metadata": {},
   "outputs": [],
   "source": [
    "df_loc = pd.json_normalize(data[\"locations\"])\n",
    "df_loc[\"timestamp\"] = pd.to_datetime(df_loc[\"timestamp\"])\n",
    "df = df_loc.sample(10_000)\n",
    "\n",
    "# Function to extract the top activity\n",
    "def get_top_activity(activities):\n",
    "    # If list\n",
    "    if isinstance(activities, list):\n",
    "        if not activities:  # Check for empty list\n",
    "            return None\n",
    "    \n",
    "        # Good case\n",
    "        top_activities = []\n",
    "        for i in activities:\n",
    "            top = max(i[\"activity\"], key=lambda x: x[\"confidence\"])\n",
    "            top_activities.append(top)\n",
    "        single_top_activity = max(top_activities, key=lambda x: x[\"confidence\"])\n",
    "        return single_top_activity\n",
    "    \n",
    "    # If nan float\n",
    "    elif pd.isna(activities):\n",
    "        return None\n",
    "\n",
    "# Apply the function to each row and store in a new column\n",
    "df[\"top_activity\"] = df[\"activity\"].apply(get_top_activity)\n",
    "df[\"confidence\"] = df[\"top_activity\"].apply(lambda x: x[\"confidence\"] if x else None)\n",
    "df[\"top_activity\"] = df[\"top_activity\"].apply(lambda x: x[\"type\"] if x else None)\n",
    "\n",
    "# Drop the old activity column\n",
    "df.drop(columns=[\"activity\"], inplace=True)\n",
    "\n",
    "# lowercase all columns\n",
    "df = df.applymap(lambda x: x.lower() if isinstance(x, str) else x)"
   ]
  },
  {
   "cell_type": "code",
   "execution_count": 23,
   "metadata": {},
   "outputs": [],
   "source": [
    "agent = create_pandas_dataframe_agent(OpenAI(temperature=0), df, verbose=True)"
   ]
  },
  {
   "cell_type": "code",
   "execution_count": 24,
   "metadata": {},
   "outputs": [
    {
     "name": "stdout",
     "output_type": "stream",
     "text": [
      "\n",
      "\n",
      "\u001b[1m> Entering new AgentExecutor chain...\u001b[0m\n",
      "\u001b[32;1m\u001b[1;3mThought: I need to find the top 3 activities in the dataframe\n",
      "Action: python_repl_ast\n",
      "Action Input: df['top_activity'].value_counts().head(3)\u001b[0m\n",
      "Observation: \u001b[36;1m\u001b[1;3mstill      1965\n",
      "tilting    1012\n",
      "unknown     301\n",
      "Name: top_activity, dtype: int64\u001b[0m\n",
      "Thought:\u001b[32;1m\u001b[1;3m I now know the top 3 activities\n",
      "Final Answer: still, tilting, and unknown\u001b[0m\n",
      "\n",
      "\u001b[1m> Finished chain.\u001b[0m\n"
     ]
    },
    {
     "data": {
      "text/plain": [
       "'still, tilting, and unknown'"
      ]
     },
     "execution_count": 24,
     "metadata": {},
     "output_type": "execute_result"
    }
   ],
   "source": [
    "agent.run(\"What are my top 3 activities?\")"
   ]
  },
  {
   "cell_type": "code",
   "execution_count": 25,
   "metadata": {},
   "outputs": [
    {
     "data": {
      "text/html": [
       "<div>\n",
       "<style scoped>\n",
       "    .dataframe tbody tr th:only-of-type {\n",
       "        vertical-align: middle;\n",
       "    }\n",
       "\n",
       "    .dataframe tbody tr th {\n",
       "        vertical-align: top;\n",
       "    }\n",
       "\n",
       "    .dataframe thead th {\n",
       "        text-align: right;\n",
       "    }\n",
       "</style>\n",
       "<table border=\"1\" class=\"dataframe\">\n",
       "  <thead>\n",
       "    <tr style=\"text-align: right;\">\n",
       "      <th></th>\n",
       "      <th>2054221</th>\n",
       "      <th>2102316</th>\n",
       "      <th>1692430</th>\n",
       "    </tr>\n",
       "  </thead>\n",
       "  <tbody>\n",
       "    <tr>\n",
       "      <th>latitudeE7</th>\n",
       "      <td>337800110</td>\n",
       "      <td>338538686</td>\n",
       "      <td>413823862</td>\n",
       "    </tr>\n",
       "    <tr>\n",
       "      <th>longitudeE7</th>\n",
       "      <td>-843902467</td>\n",
       "      <td>-843669955</td>\n",
       "      <td>21723678</td>\n",
       "    </tr>\n",
       "    <tr>\n",
       "      <th>accuracy</th>\n",
       "      <td>16</td>\n",
       "      <td>65</td>\n",
       "      <td>14</td>\n",
       "    </tr>\n",
       "    <tr>\n",
       "      <th>source</th>\n",
       "      <td>wifi</td>\n",
       "      <td>NaN</td>\n",
       "      <td>wifi</td>\n",
       "    </tr>\n",
       "    <tr>\n",
       "      <th>timestamp</th>\n",
       "      <td>2019-11-29 15:04:29.611000+00:00</td>\n",
       "      <td>2020-08-23 03:36:11.015000+00:00</td>\n",
       "      <td>2018-09-09 02:43:14.494000+00:00</td>\n",
       "    </tr>\n",
       "    <tr>\n",
       "      <th>deviceDesignation</th>\n",
       "      <td>NaN</td>\n",
       "      <td>NaN</td>\n",
       "      <td>primary</td>\n",
       "    </tr>\n",
       "    <tr>\n",
       "      <th>deviceTag</th>\n",
       "      <td>1794310557.0</td>\n",
       "      <td>-1949129349.0</td>\n",
       "      <td>-2093536168.0</td>\n",
       "    </tr>\n",
       "    <tr>\n",
       "      <th>platformType</th>\n",
       "      <td>NaN</td>\n",
       "      <td>NaN</td>\n",
       "      <td>NaN</td>\n",
       "    </tr>\n",
       "    <tr>\n",
       "      <th>serverTimestamp</th>\n",
       "      <td>NaN</td>\n",
       "      <td>NaN</td>\n",
       "      <td>NaN</td>\n",
       "    </tr>\n",
       "    <tr>\n",
       "      <th>deviceTimestamp</th>\n",
       "      <td>NaN</td>\n",
       "      <td>NaN</td>\n",
       "      <td>NaN</td>\n",
       "    </tr>\n",
       "    <tr>\n",
       "      <th>batteryCharging</th>\n",
       "      <td>NaN</td>\n",
       "      <td>NaN</td>\n",
       "      <td>NaN</td>\n",
       "    </tr>\n",
       "    <tr>\n",
       "      <th>formFactor</th>\n",
       "      <td>NaN</td>\n",
       "      <td>NaN</td>\n",
       "      <td>NaN</td>\n",
       "    </tr>\n",
       "    <tr>\n",
       "      <th>velocity</th>\n",
       "      <td>NaN</td>\n",
       "      <td>NaN</td>\n",
       "      <td>NaN</td>\n",
       "    </tr>\n",
       "    <tr>\n",
       "      <th>altitude</th>\n",
       "      <td>NaN</td>\n",
       "      <td>NaN</td>\n",
       "      <td>NaN</td>\n",
       "    </tr>\n",
       "    <tr>\n",
       "      <th>verticalAccuracy</th>\n",
       "      <td>NaN</td>\n",
       "      <td>NaN</td>\n",
       "      <td>NaN</td>\n",
       "    </tr>\n",
       "    <tr>\n",
       "      <th>heading</th>\n",
       "      <td>NaN</td>\n",
       "      <td>NaN</td>\n",
       "      <td>NaN</td>\n",
       "    </tr>\n",
       "    <tr>\n",
       "      <th>activeWifiScan.accessPoints</th>\n",
       "      <td>NaN</td>\n",
       "      <td>NaN</td>\n",
       "      <td>NaN</td>\n",
       "    </tr>\n",
       "    <tr>\n",
       "      <th>top_activity</th>\n",
       "      <td>None</td>\n",
       "      <td>None</td>\n",
       "      <td>still</td>\n",
       "    </tr>\n",
       "    <tr>\n",
       "      <th>confidence</th>\n",
       "      <td>NaN</td>\n",
       "      <td>NaN</td>\n",
       "      <td>69.0</td>\n",
       "    </tr>\n",
       "  </tbody>\n",
       "</table>\n",
       "</div>"
      ],
      "text/plain": [
       "                                                      2054221  \\\n",
       "latitudeE7                                          337800110   \n",
       "longitudeE7                                        -843902467   \n",
       "accuracy                                                   16   \n",
       "source                                                   wifi   \n",
       "timestamp                    2019-11-29 15:04:29.611000+00:00   \n",
       "deviceDesignation                                         NaN   \n",
       "deviceTag                                        1794310557.0   \n",
       "platformType                                              NaN   \n",
       "serverTimestamp                                           NaN   \n",
       "deviceTimestamp                                           NaN   \n",
       "batteryCharging                                           NaN   \n",
       "formFactor                                                NaN   \n",
       "velocity                                                  NaN   \n",
       "altitude                                                  NaN   \n",
       "verticalAccuracy                                          NaN   \n",
       "heading                                                   NaN   \n",
       "activeWifiScan.accessPoints                               NaN   \n",
       "top_activity                                             None   \n",
       "confidence                                                NaN   \n",
       "\n",
       "                                                      2102316  \\\n",
       "latitudeE7                                          338538686   \n",
       "longitudeE7                                        -843669955   \n",
       "accuracy                                                   65   \n",
       "source                                                    NaN   \n",
       "timestamp                    2020-08-23 03:36:11.015000+00:00   \n",
       "deviceDesignation                                         NaN   \n",
       "deviceTag                                       -1949129349.0   \n",
       "platformType                                              NaN   \n",
       "serverTimestamp                                           NaN   \n",
       "deviceTimestamp                                           NaN   \n",
       "batteryCharging                                           NaN   \n",
       "formFactor                                                NaN   \n",
       "velocity                                                  NaN   \n",
       "altitude                                                  NaN   \n",
       "verticalAccuracy                                          NaN   \n",
       "heading                                                   NaN   \n",
       "activeWifiScan.accessPoints                               NaN   \n",
       "top_activity                                             None   \n",
       "confidence                                                NaN   \n",
       "\n",
       "                                                      1692430  \n",
       "latitudeE7                                          413823862  \n",
       "longitudeE7                                          21723678  \n",
       "accuracy                                                   14  \n",
       "source                                                   wifi  \n",
       "timestamp                    2018-09-09 02:43:14.494000+00:00  \n",
       "deviceDesignation                                     primary  \n",
       "deviceTag                                       -2093536168.0  \n",
       "platformType                                              NaN  \n",
       "serverTimestamp                                           NaN  \n",
       "deviceTimestamp                                           NaN  \n",
       "batteryCharging                                           NaN  \n",
       "formFactor                                                NaN  \n",
       "velocity                                                  NaN  \n",
       "altitude                                                  NaN  \n",
       "verticalAccuracy                                          NaN  \n",
       "heading                                                   NaN  \n",
       "activeWifiScan.accessPoints                               NaN  \n",
       "top_activity                                            still  \n",
       "confidence                                               69.0  "
      ]
     },
     "execution_count": 25,
     "metadata": {},
     "output_type": "execute_result"
    }
   ],
   "source": [
    "df.head(3).T"
   ]
  },
  {
   "attachments": {},
   "cell_type": "markdown",
   "metadata": {},
   "source": [
    "## Load Semantic"
   ]
  },
  {
   "cell_type": "code",
   "execution_count": 28,
   "metadata": {},
   "outputs": [],
   "source": [
    "import os\n",
    "\n",
    "data_folder = \"/Users/davidrose/git/chatlas/data/location_history/semantic/2023\"\n",
    "data_files = [os.path.join(data_folder, file) for file in os.listdir(data_folder) if file.endswith('.json')]\n",
    "\n",
    "data = []\n",
    "for file in data_files:\n",
    "    with open(file, 'r') as f:\n",
    "        data.append(json.load(f))\n",
    "\n",
    "dfs = pd.json_normalize(data)\n"
   ]
  },
  {
   "cell_type": "code",
   "execution_count": 86,
   "metadata": {},
   "outputs": [],
   "source": [
    "activity_segments = []\n",
    "place_visits = []\n",
    "for i in data[0][\"timelineObjects\"]:\n",
    "    if \"activitySegment\" in i.keys():\n",
    "        activity_segments.append(i[\"activitySegment\"])\n",
    "    if \"placeVisit\" in i.keys():\n",
    "        place_visits.append(i[\"placeVisit\"])\n",
    "\n",
    "df_acts = pd.json_normalize(activity_segments)\n",
    "df_visits = pd.json_normalize(place_visits)"
   ]
  },
  {
   "attachments": {},
   "cell_type": "markdown",
   "metadata": {},
   "source": [
    "### Make interval DF"
   ]
  },
  {
   "cell_type": "code",
   "execution_count": 87,
   "metadata": {},
   "outputs": [],
   "source": [
    "def parse_datetime(dt_str):\n",
    "    try:\n",
    "        # Try the format with milliseconds\n",
    "        return datetime.strptime(dt_str, '%Y-%m-%dT%H:%M:%S.%fZ')\n",
    "    except ValueError:\n",
    "        # Fall back to the format without milliseconds\n",
    "        return datetime.strptime(dt_str, '%Y-%m-%dT%H:%M:%SZ')\n",
    "    \n",
    "df_acts[\"duration.startTimestamp\"] = df_acts[\"duration.startTimestamp\"].apply(parse_datetime)\n",
    "df_acts[\"duration.endTimestamp\"] = df_acts[\"duration.endTimestamp\"].apply(parse_datetime)"
   ]
  },
  {
   "cell_type": "code",
   "execution_count": 88,
   "metadata": {},
   "outputs": [],
   "source": [
    "new_rows = []\n",
    "for _, row in df_acts.iterrows():\n",
    "    start_time = row[\"duration.startTimestamp\"]\n",
    "    end_time = row[\"duration.endTimestamp\"]\n",
    "    current_time = start_time\n",
    "    \n",
    "    while current_time < end_time:\n",
    "        next_interval_end = current_time + pd.Timedelta(minutes=5)\n",
    "        new_row = row.copy()\n",
    "        new_row[\"duration.startTimestamp\"] = current_time\n",
    "        new_row[\"duration.endTimestamp\"] = min(next_interval_end, end_time)\n",
    "        new_rows.append(new_row)\n",
    "        current_time = next_interval_end\n",
    "\n",
    "granular_df = pd.DataFrame(new_rows)"
   ]
  },
  {
   "cell_type": "code",
   "execution_count": 89,
   "metadata": {},
   "outputs": [
    {
     "data": {
      "text/plain": [
       "(369, 35)"
      ]
     },
     "execution_count": 89,
     "metadata": {},
     "output_type": "execute_result"
    }
   ],
   "source": [
    "granular_df.shape"
   ]
  },
  {
   "cell_type": "code",
   "execution_count": 96,
   "metadata": {},
   "outputs": [],
   "source": [
    "# Create an empty DataFrame that covers all 5-minute intervals for the month\n",
    "start_date = df_acts[\"duration.startTimestamp\"].min().replace(hour=0, minute=0, second=0, microsecond=0)\n",
    "end_date = df_acts[\"duration.endTimestamp\"].max().replace(hour=23, minute=59, second=59, microsecond=0)\n",
    "date_range = pd.date_range(start_date, end_date, freq=\"5T\")\n",
    "all_intervals_df = pd.DataFrame(index=date_range)\n",
    "all_intervals_df = all_intervals_df.reset_index().rename(columns={\"index\": \"interval_start\"})\n",
    "\n",
    "# Merge the base DataFrame with the granular_df\n",
    "merged_df = pd.merge_asof(all_intervals_df.sort_values(by=\"interval_start\"),\n",
    "                          granular_df.sort_values(by='duration.startTimestamp'),\n",
    "                          left_on=\"interval_start\",\n",
    "                          right_on=\"duration.startTimestamp\",\n",
    "                          direction=\"backward\",\n",
    "                          suffixes=(\"\", \"_y\"))\n",
    "\n",
    "# Drop unwanted columns and clean up if necessary\n",
    "# merged_df.drop(columns=['duration.startTimestamp_y', 'duration.endTimestamp_y'], inplace=True)"
   ]
  },
  {
   "cell_type": "code",
   "execution_count": 97,
   "metadata": {},
   "outputs": [
    {
     "data": {
      "text/plain": [
       "(8928, 36)"
      ]
     },
     "execution_count": 97,
     "metadata": {},
     "output_type": "execute_result"
    }
   ],
   "source": [
    "merged_df.shape"
   ]
  },
  {
   "cell_type": "code",
   "execution_count": null,
   "metadata": {},
   "outputs": [],
   "source": []
  }
 ],
 "metadata": {
  "kernelspec": {
   "display_name": "sql_ai",
   "language": "python",
   "name": "python3"
  },
  "language_info": {
   "codemirror_mode": {
    "name": "ipython",
    "version": 3
   },
   "file_extension": ".py",
   "mimetype": "text/x-python",
   "name": "python",
   "nbconvert_exporter": "python",
   "pygments_lexer": "ipython3",
   "version": "3.11.0"
  },
  "orig_nbformat": 4
 },
 "nbformat": 4,
 "nbformat_minor": 2
}

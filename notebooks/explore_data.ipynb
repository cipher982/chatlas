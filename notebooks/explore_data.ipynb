{
 "cells": [
  {
   "cell_type": "code",
   "execution_count": 1,
   "metadata": {},
   "outputs": [],
   "source": [
    "import json\n",
    "\n",
    "import pandas as pd\n",
    "from tqdm import tqdm"
   ]
  },
  {
   "attachments": {},
   "cell_type": "markdown",
   "metadata": {},
   "source": [
    "## Get Coordinates"
   ]
  },
  {
   "cell_type": "code",
   "execution_count": 2,
   "metadata": {},
   "outputs": [],
   "source": [
    "coords_path = \"/Users/davidrose/git/chatlas/data/location_history/Records.json\"\n",
    "with open(coords_path) as f:\n",
    "    # Load in Google Location History data.\n",
    "    data = json.load(f)\n",
    "\n",
    "df_loc = pd.json_normalize(data[\"locations\"])"
   ]
  },
  {
   "cell_type": "code",
   "execution_count": 3,
   "metadata": {},
   "outputs": [
    {
     "data": {
      "text/html": [
       "<div>\n",
       "<style scoped>\n",
       "    .dataframe tbody tr th:only-of-type {\n",
       "        vertical-align: middle;\n",
       "    }\n",
       "\n",
       "    .dataframe tbody tr th {\n",
       "        vertical-align: top;\n",
       "    }\n",
       "\n",
       "    .dataframe thead th {\n",
       "        text-align: right;\n",
       "    }\n",
       "</style>\n",
       "<table border=\"1\" class=\"dataframe\">\n",
       "  <thead>\n",
       "    <tr style=\"text-align: right;\">\n",
       "      <th></th>\n",
       "      <th>0</th>\n",
       "      <th>1</th>\n",
       "      <th>2</th>\n",
       "    </tr>\n",
       "  </thead>\n",
       "  <tbody>\n",
       "    <tr>\n",
       "      <th>latitudeE7</th>\n",
       "      <td>334594250</td>\n",
       "      <td>334594540</td>\n",
       "      <td>334592730</td>\n",
       "    </tr>\n",
       "    <tr>\n",
       "      <th>longitudeE7</th>\n",
       "      <td>-867989120</td>\n",
       "      <td>-867989450</td>\n",
       "      <td>-867983280</td>\n",
       "    </tr>\n",
       "    <tr>\n",
       "      <th>accuracy</th>\n",
       "      <td>20</td>\n",
       "      <td>15</td>\n",
       "      <td>37</td>\n",
       "    </tr>\n",
       "    <tr>\n",
       "      <th>source</th>\n",
       "      <td>gps</td>\n",
       "      <td>gps</td>\n",
       "      <td>network</td>\n",
       "    </tr>\n",
       "    <tr>\n",
       "      <th>timestamp</th>\n",
       "      <td>2011-08-22T00:40:10Z</td>\n",
       "      <td>2011-08-22T00:40:22Z</td>\n",
       "      <td>2011-08-22T00:41:20.499Z</td>\n",
       "    </tr>\n",
       "    <tr>\n",
       "      <th>deviceDesignation</th>\n",
       "      <td>NaN</td>\n",
       "      <td>NaN</td>\n",
       "      <td>NaN</td>\n",
       "    </tr>\n",
       "    <tr>\n",
       "      <th>activity</th>\n",
       "      <td>NaN</td>\n",
       "      <td>NaN</td>\n",
       "      <td>NaN</td>\n",
       "    </tr>\n",
       "    <tr>\n",
       "      <th>deviceTag</th>\n",
       "      <td>NaN</td>\n",
       "      <td>NaN</td>\n",
       "      <td>NaN</td>\n",
       "    </tr>\n",
       "    <tr>\n",
       "      <th>platformType</th>\n",
       "      <td>NaN</td>\n",
       "      <td>NaN</td>\n",
       "      <td>NaN</td>\n",
       "    </tr>\n",
       "    <tr>\n",
       "      <th>serverTimestamp</th>\n",
       "      <td>NaN</td>\n",
       "      <td>NaN</td>\n",
       "      <td>NaN</td>\n",
       "    </tr>\n",
       "    <tr>\n",
       "      <th>deviceTimestamp</th>\n",
       "      <td>NaN</td>\n",
       "      <td>NaN</td>\n",
       "      <td>NaN</td>\n",
       "    </tr>\n",
       "    <tr>\n",
       "      <th>batteryCharging</th>\n",
       "      <td>NaN</td>\n",
       "      <td>NaN</td>\n",
       "      <td>NaN</td>\n",
       "    </tr>\n",
       "    <tr>\n",
       "      <th>formFactor</th>\n",
       "      <td>NaN</td>\n",
       "      <td>NaN</td>\n",
       "      <td>NaN</td>\n",
       "    </tr>\n",
       "    <tr>\n",
       "      <th>velocity</th>\n",
       "      <td>NaN</td>\n",
       "      <td>NaN</td>\n",
       "      <td>NaN</td>\n",
       "    </tr>\n",
       "    <tr>\n",
       "      <th>altitude</th>\n",
       "      <td>NaN</td>\n",
       "      <td>NaN</td>\n",
       "      <td>NaN</td>\n",
       "    </tr>\n",
       "    <tr>\n",
       "      <th>verticalAccuracy</th>\n",
       "      <td>NaN</td>\n",
       "      <td>NaN</td>\n",
       "      <td>NaN</td>\n",
       "    </tr>\n",
       "    <tr>\n",
       "      <th>heading</th>\n",
       "      <td>NaN</td>\n",
       "      <td>NaN</td>\n",
       "      <td>NaN</td>\n",
       "    </tr>\n",
       "    <tr>\n",
       "      <th>activeWifiScan.accessPoints</th>\n",
       "      <td>NaN</td>\n",
       "      <td>NaN</td>\n",
       "      <td>NaN</td>\n",
       "    </tr>\n",
       "  </tbody>\n",
       "</table>\n",
       "</div>"
      ],
      "text/plain": [
       "                                                0                     1  \\\n",
       "latitudeE7                              334594250             334594540   \n",
       "longitudeE7                            -867989120            -867989450   \n",
       "accuracy                                       20                    15   \n",
       "source                                        gps                   gps   \n",
       "timestamp                    2011-08-22T00:40:10Z  2011-08-22T00:40:22Z   \n",
       "deviceDesignation                             NaN                   NaN   \n",
       "activity                                      NaN                   NaN   \n",
       "deviceTag                                     NaN                   NaN   \n",
       "platformType                                  NaN                   NaN   \n",
       "serverTimestamp                               NaN                   NaN   \n",
       "deviceTimestamp                               NaN                   NaN   \n",
       "batteryCharging                               NaN                   NaN   \n",
       "formFactor                                    NaN                   NaN   \n",
       "velocity                                      NaN                   NaN   \n",
       "altitude                                      NaN                   NaN   \n",
       "verticalAccuracy                              NaN                   NaN   \n",
       "heading                                       NaN                   NaN   \n",
       "activeWifiScan.accessPoints                   NaN                   NaN   \n",
       "\n",
       "                                                    2  \n",
       "latitudeE7                                  334592730  \n",
       "longitudeE7                                -867983280  \n",
       "accuracy                                           37  \n",
       "source                                        network  \n",
       "timestamp                    2011-08-22T00:41:20.499Z  \n",
       "deviceDesignation                                 NaN  \n",
       "activity                                          NaN  \n",
       "deviceTag                                         NaN  \n",
       "platformType                                      NaN  \n",
       "serverTimestamp                                   NaN  \n",
       "deviceTimestamp                                   NaN  \n",
       "batteryCharging                                   NaN  \n",
       "formFactor                                        NaN  \n",
       "velocity                                          NaN  \n",
       "altitude                                          NaN  \n",
       "verticalAccuracy                                  NaN  \n",
       "heading                                           NaN  \n",
       "activeWifiScan.accessPoints                       NaN  "
      ]
     },
     "execution_count": 3,
     "metadata": {},
     "output_type": "execute_result"
    }
   ],
   "source": [
    "df_loc.head(3).T"
   ]
  },
  {
   "cell_type": "code",
   "execution_count": 4,
   "metadata": {},
   "outputs": [
    {
     "data": {
      "text/plain": [
       "latitudeE7                      0.000000\n",
       "longitudeE7                     0.000000\n",
       "accuracy                        0.000000\n",
       "source                          3.794051\n",
       "timestamp                       0.000000\n",
       "deviceDesignation              80.331972\n",
       "activity                       62.483014\n",
       "deviceTag                       3.477235\n",
       "platformType                   98.237329\n",
       "serverTimestamp                98.237329\n",
       "deviceTimestamp                98.290430\n",
       "batteryCharging                98.303396\n",
       "formFactor                     98.237329\n",
       "velocity                       98.830415\n",
       "altitude                       98.406390\n",
       "verticalAccuracy               98.406390\n",
       "heading                        99.608229\n",
       "activeWifiScan.accessPoints    99.904612\n",
       "dtype: float64"
      ]
     },
     "execution_count": 4,
     "metadata": {},
     "output_type": "execute_result"
    }
   ],
   "source": [
    "## Check percentage of NaN in df_loc columns\n",
    "nan_percentage = df_loc.isnull().sum() / len(df_loc) * 100\n",
    "nan_percentage"
   ]
  },
  {
   "cell_type": "code",
   "execution_count": 6,
   "metadata": {},
   "outputs": [
    {
     "data": {
      "image/png": "[encoded data removed]",
      "text/plain": [
       "<Figure size 640x480 with 1 Axes>"
      ]
     },
     "metadata": {},
     "output_type": "display_data"
    }
   ],
   "source": [
    "import matplotlib.pyplot as plt\n",
    "\n",
    "df_loc[\"timestamp\"] = pd.to_datetime(df_loc[\"timestamp\"])\n",
    "plt.hist(df_loc[\"timestamp\"])\n",
    "plt.show()"
   ]
  },
  {
   "cell_type": "code",
   "execution_count": null,
   "metadata": {},
   "outputs": [],
   "source": []
  },
  {
   "attachments": {},
   "cell_type": "markdown",
   "metadata": {},
   "source": [
    "## Get Semantic "
   ]
  },
  {
   "cell_type": "code",
   "execution_count": null,
   "metadata": {},
   "outputs": [],
   "source": [
    "import os\n",
    "\n",
    "data_folder = \"/Users/davidrose/git/chatlas/data/location_history/semantic/2023\"\n",
    "data_files = [os.path.join(data_folder, file) for file in os.listdir(data_folder) if file.endswith('.json')]\n",
    "\n",
    "data = []\n",
    "for file in data_files:\n",
    "    with open(file, 'r') as f:\n",
    "        data.append(json.load(f))\n",
    "\n",
    "df = pd.json_normalize(data)\n"
   ]
  },
  {
   "cell_type": "code",
   "execution_count": null,
   "metadata": {},
   "outputs": [],
   "source": []
  }
 ],
 "metadata": {
  "kernelspec": {
   "display_name": "sql_ai",
   "language": "python",
   "name": "python3"
  },
  "language_info": {
   "codemirror_mode": {
    "name": "ipython",
    "version": 3
   },
   "file_extension": ".py",
   "mimetype": "text/x-python",
   "name": "python",
   "nbconvert_exporter": "python",
   "pygments_lexer": "ipython3",
   "version": "3.11.0"
  },
  "orig_nbformat": 4
 },
 "nbformat": 4,
 "nbformat_minor": 2
}
